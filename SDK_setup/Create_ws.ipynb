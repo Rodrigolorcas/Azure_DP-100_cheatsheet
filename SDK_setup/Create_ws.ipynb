{
 "cells": [
  {
   "cell_type": "code",
   "execution_count": null,
   "metadata": {},
   "outputs": [],
   "source": [
    "#Import workspace class\n",
    "from azureml.core import Workspace\n",
    "\n",
    "# Create a workspace\n"
   ]
  }
 ],
 "metadata": {
  "language_info": {
   "name": "python"
  },
  "orig_nbformat": 4
 },
 "nbformat": 4,
 "nbformat_minor": 2
}
