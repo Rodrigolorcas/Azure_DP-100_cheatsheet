{
 "cells": [
  {
   "cell_type": "markdown",
   "metadata": {},
   "source": [
    "### Setup"
   ]
  },
  {
   "cell_type": "code",
   "execution_count": 10,
   "metadata": {},
   "outputs": [],
   "source": [
    "from azureml.core import Workspace, Datastore, Dataset;\n",
    "\n",
    "#Get ws\n",
    "ws = Workspace.from_config();\n",
    "\n",
    "#Get datastore\n",
    "az_store = Datastore.get(ws, 'sdk_blob01');\n",
    "\n",
    "#Get dataset\n",
    "az_dataset = Dataset.get_by_name(ws, \"loan_applications_sdk\");"
   ]
  },
  {
   "cell_type": "markdown",
   "metadata": {},
   "source": [
    "### Dataset to Dataframe"
   ]
  },
  {
   "cell_type": "code",
   "execution_count": 11,
   "metadata": {},
   "outputs": [],
   "source": [
    "import pandas as pd\n",
    "import numpy as np\n",
    "\n",
    "df = az_dataset.to_pandas_dataframe()\n",
    "df.head()"
   ]
  },
  {
   "cell_type": "markdown",
   "metadata": {},
   "source": [
    "### Upload dataframe to azure dataset"
   ]
  },
  {
   "cell_type": "code",
   "execution_count": null,
   "metadata": {},
   "outputs": [
    {
     "name": "stdout",
     "output_type": "stream",
     "text": [
      "Validating arguments.\n",
      "Arguments validated.\n",
      "Successfully obtained datastore reference and path.\n",
      "Uploading file to managed-dataset/c7fa7150-5319-4d3a-adb5-5f801ad93bd6/\n",
      "Successfully uploaded file to datastore.\n",
      "Creating and registering a new dataset.\n",
      "Successfully created and registered a new dataset.\n"
     ]
    }
   ],
   "source": [
    "df_sub = df[[\"Married\", \"Gender\", \"Loan_Status\"]]\n",
    "\n",
    "az_ds_from_df = Dataset.Tabular.register_pandas_dataframe(\n",
    "                                                        dataframe=df_sub,\n",
    "                                                        target=az_store,\n",
    "                                                        name=\"loan_applications_from_df\"\n",
    "                                                        )"
   ]
  }
 ],
 "metadata": {
  "interpreter": {
   "hash": "ead5f5898ccebc7e5b24807bcfb39560aa22cced1b5b4300e4174c421d01ffcc"
  },
  "kernelspec": {
   "display_name": "Python 3.8.12 64-bit ('azure': conda)",
   "language": "python",
   "name": "python3"
  },
  "language_info": {
   "codemirror_mode": {
    "name": "ipython",
    "version": 3
   },
   "file_extension": ".py",
   "mimetype": "text/x-python",
   "name": "python",
   "nbconvert_exporter": "python",
   "pygments_lexer": "ipython3",
   "version": "3.8.12"
  },
  "orig_nbformat": 4
 },
 "nbformat": 4,
 "nbformat_minor": 2
}
