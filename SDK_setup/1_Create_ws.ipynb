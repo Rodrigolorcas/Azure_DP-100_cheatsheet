{
 "cells": [
  {
   "cell_type": "markdown",
   "metadata": {},
   "source": [
    "##### Create a Workspace"
   ]
  },
  {
   "cell_type": "code",
   "execution_count": 1,
   "metadata": {},
   "outputs": [
    {
     "name": "stderr",
     "output_type": "stream",
     "text": [
      "Failure while loading azureml_run_type_providers. Failed to load entrypoint hyperdrive = azureml.train.hyperdrive:HyperDriveRun._from_run_dto with exception (pywin32 303 (c:\\users\\roilo\\anaconda3\\envs\\azure\\lib\\site-packages), Requirement.parse('pywin32==227; sys_platform == \"win32\"'), {'docker'}).\n",
      "Failure while loading azureml_run_type_providers. Failed to load entrypoint automl = azureml.train.automl.run:AutoMLRun._from_run_dto with exception (pywin32 303 (c:\\users\\roilo\\anaconda3\\envs\\azure\\lib\\site-packages), Requirement.parse('pywin32==227; sys_platform == \"win32\"'), {'docker'}).\n",
      "Failure while loading azureml_run_type_providers. Failed to load entrypoint azureml.PipelineRun = azureml.pipeline.core.run:PipelineRun._from_dto with exception (pywin32 303 (c:\\users\\roilo\\anaconda3\\envs\\azure\\lib\\site-packages), Requirement.parse('pywin32==227; sys_platform == \"win32\"'), {'docker'}).\n",
      "Failure while loading azureml_run_type_providers. Failed to load entrypoint azureml.ReusedStepRun = azureml.pipeline.core.run:StepRun._from_reused_dto with exception (pywin32 303 (c:\\users\\roilo\\anaconda3\\envs\\azure\\lib\\site-packages), Requirement.parse('pywin32==227; sys_platform == \"win32\"'), {'docker'}).\n",
      "Failure while loading azureml_run_type_providers. Failed to load entrypoint azureml.StepRun = azureml.pipeline.core.run:StepRun._from_dto with exception (pywin32 303 (c:\\users\\roilo\\anaconda3\\envs\\azure\\lib\\site-packages), Requirement.parse('pywin32==227; sys_platform == \"win32\"'), {'docker'}).\n",
      "Failure while loading azureml_run_type_providers. Failed to load entrypoint azureml.scriptrun = azureml.core.script_run:ScriptRun._from_run_dto with exception (pywin32 303 (c:\\users\\roilo\\anaconda3\\envs\\azure\\lib\\site-packages), Requirement.parse('pywin32==227; sys_platform == \"win32\"'), {'docker'}).\n",
      "UserWarning: The resource group doesn't exist or was not provided. AzureML SDK is creating a resource group=SDKRG01 in location=eastus2 using subscription=8943b9b0-521b-42bc-a5a4-6be98cd673a5.\n"
     ]
    },
    {
     "name": "stdout",
     "output_type": "stream",
     "text": [
      "Deploying KeyVault with name sdkws01keyvault1aa79989a.\n",
      "Deploying AppInsights with name sdkws01insights5f6f281cc.\n",
      "Deployed AppInsights with name sdkws01insights5f6f281cc. Took 8.19 seconds.\n",
      "Deploying StorageAccount with name sdkws01storagece4c5c1416.\n",
      "Deployed KeyVault with name sdkws01keyvault1aa79989a. Took 24.5 seconds.\n",
      "Deployed StorageAccount with name sdkws01storagece4c5c1416. Took 30.22 seconds.\n",
      "Deploying Workspace with name SDK-WS01.\n",
      "Deployed Workspace with name SDK-WS01. Took 26.14 seconds.\n"
     ]
    }
   ],
   "source": [
    "#Import workspace class\n",
    "from azureml.core import Workspace \n",
    "\n",
    "# Create a workspace\n",
    "ws = Workspace.create(name = 'SDK-WS01',\n",
    "                        subscription_id = '8943b9b0-521b-42bc-a5a4-6be98cd673a5',\n",
    "                        resource_group = 'SDKRG01',\n",
    "                        create_resource_group = True,\n",
    "                        location = 'eastus2');"
   ]
  },
  {
   "cell_type": "markdown",
   "metadata": {},
   "source": [
    "##### Write the config.json file to local directory"
   ]
  },
  {
   "cell_type": "code",
   "execution_count": 2,
   "metadata": {},
   "outputs": [],
   "source": [
    "#This creates the config file to use the WS next time inside -azureml folder\n",
    "ws.write_config()"
   ]
  }
 ],
 "metadata": {
  "interpreter": {
   "hash": "ead5f5898ccebc7e5b24807bcfb39560aa22cced1b5b4300e4174c421d01ffcc"
  },
  "kernelspec": {
   "display_name": "Python 3.8.12 64-bit ('azure': conda)",
   "language": "python",
   "name": "python3"
  },
  "language_info": {
   "codemirror_mode": {
    "name": "ipython",
    "version": 3
   },
   "file_extension": ".py",
   "mimetype": "text/x-python",
   "name": "python",
   "nbconvert_exporter": "python",
   "pygments_lexer": "ipython3",
   "version": "3.8.12"
  },
  "orig_nbformat": 4
 },
 "nbformat": 4,
 "nbformat_minor": 2
}
