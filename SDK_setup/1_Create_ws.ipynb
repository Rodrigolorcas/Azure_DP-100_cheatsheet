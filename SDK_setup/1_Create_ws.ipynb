{
 "cells": [
  {
   "cell_type": "markdown",
   "metadata": {},
   "source": [
    "##### Create a Workspace"
   ]
  },
  {
   "cell_type": "code",
   "execution_count": 5,
   "metadata": {},
   "outputs": [
    {
     "name": "stdout",
     "output_type": "stream",
     "text": [
      "Deploying KeyVault with name sdkws01keyvault36a24a4e2.\n",
      "Deploying AppInsights with name sdkws01insights2e30815ee.\n",
      "Deployed AppInsights with name sdkws01insights2e30815ee. Took 8.81 seconds.\n",
      "Deploying StorageAccount with name sdkws01storage0220728535.\n",
      "Deployed KeyVault with name sdkws01keyvault36a24a4e2. Took 24.93 seconds.\n",
      "Deploying Workspace with name SDK-WS01.\n",
      "Deployed StorageAccount with name sdkws01storage0220728535. Took 28.56 seconds.\n",
      "Deployed Workspace with name SDK-WS01. Took 24.71 seconds.\n"
     ]
    }
   ],
   "source": [
    "#Import workspace class\n",
    "from azureml.core import Workspace \n",
    "\n",
    "# Create a workspace\n",
    "ws = Workspace.create(name = 'SDK-WS01',\n",
    "                        subscription_id = '8943b9b0-521b-42bc-a5a4-6be98cd673a5', #your subscription id\n",
    "                        resource_group = 'SDKRG01',\n",
    "                        create_resource_group = True,\n",
    "                        location = 'eastus2');"
   ]
  },
  {
   "cell_type": "markdown",
   "metadata": {},
   "source": [
    "##### Write the config.json file to local directory"
   ]
  },
  {
   "cell_type": "code",
   "execution_count": 6,
   "metadata": {},
   "outputs": [],
   "source": [
    "#This creates the config file to use the WS next time inside -azureml folder\n",
    "ws.write_config()"
   ]
  },
  {
   "cell_type": "markdown",
   "metadata": {},
   "source": [
    "### Get ws from config.json file"
   ]
  },
  {
   "cell_type": "code",
   "execution_count": 4,
   "metadata": {},
   "outputs": [],
   "source": [
    "from azureml.core import Workspace\n",
    "ws = Workspace.from_config()"
   ]
  }
 ],
 "metadata": {
  "interpreter": {
   "hash": "ead5f5898ccebc7e5b24807bcfb39560aa22cced1b5b4300e4174c421d01ffcc"
  },
  "kernelspec": {
   "display_name": "Python 3.8.12 64-bit ('azure': conda)",
   "language": "python",
   "name": "python3"
  },
  "language_info": {
   "codemirror_mode": {
    "name": "ipython",
    "version": 3
   },
   "file_extension": ".py",
   "mimetype": "text/x-python",
   "name": "python",
   "nbconvert_exporter": "python",
   "pygments_lexer": "ipython3",
   "version": "3.8.12"
  },
  "orig_nbformat": 4
 },
 "nbformat": 4,
 "nbformat_minor": 2
}
